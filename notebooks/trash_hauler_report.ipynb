{
 "cells": [
  {
   "cell_type": "code",
   "execution_count": null,
   "id": "5a1f7c54-b6d1-4f04-a28e-bb1fc6a02ead",
   "metadata": {},
   "outputs": [],
   "source": [
    "import pandas as pd\n",
    "import seaborn as sns\n",
    "import matplotlib.pyplot as plt\n",
    "import re"
   ]
  },
  {
   "cell_type": "code",
   "execution_count": null,
   "id": "02b2bcc2-6acf-4be4-b09d-0c714b79beba",
   "metadata": {},
   "outputs": [],
   "source": [
    "trash=pd.read_csv('../data/trash_hauler_report.csv')"
   ]
  },
  {
   "cell_type": "code",
   "execution_count": null,
   "id": "2c4ba11d-e2d8-4ce7-a018-251c2cd3f664",
   "metadata": {},
   "outputs": [],
   "source": [
    "trash"
   ]
  },
  {
   "cell_type": "code",
   "execution_count": null,
   "id": "959972fa-465f-4c20-9a35-d2c78a3df62c",
   "metadata": {},
   "outputs": [],
   "source": [
    "trash.columns"
   ]
  },
  {
   "cell_type": "code",
   "execution_count": null,
   "id": "4694b2e5-eded-48c2-9413-3725a7a803f3",
   "metadata": {},
   "outputs": [],
   "source": [
    "trash=trash.rename(columns= {'Request ': 'Request'})"
   ]
  },
  {
   "cell_type": "code",
   "execution_count": null,
   "id": "0f50ee5b-bfb4-4cda-ac24-7d7375ec02a1",
   "metadata": {},
   "outputs": [],
   "source": [
    "trash.columns"
   ]
  },
  {
   "cell_type": "code",
   "execution_count": null,
   "id": "3a6e54c4-8b72-4223-a378-4a0c328946f7",
   "metadata": {},
   "outputs": [],
   "source": [
    "trash.isnull().sum()"
   ]
  },
  {
   "cell_type": "code",
   "execution_count": null,
   "id": "4ab46ff9-cb4c-40cb-bed3-be61d22126f2",
   "metadata": {},
   "outputs": [],
   "source": [
    "trash['Zip Code']=trash['Zip Code'].fillna(-1).astype(int)"
   ]
  },
  {
   "cell_type": "code",
   "execution_count": null,
   "id": "ee1c0258-55a5-4d92-9200-28627de43d2a",
   "metadata": {},
   "outputs": [],
   "source": []
  },
  {
   "cell_type": "code",
   "execution_count": null,
   "id": "29ea64f3-3b85-4ca9-82bd-e9a4066baabb",
   "metadata": {},
   "outputs": [],
   "source": [
    "trash"
   ]
  },
  {
   "cell_type": "code",
   "execution_count": null,
   "id": "37f79775-d031-4850-94de-b43c51f5e99a",
   "metadata": {},
   "outputs": [],
   "source": [
    "trash['Council District']=trash['Council District'].fillna(-1).astype(int)"
   ]
  },
  {
   "cell_type": "code",
   "execution_count": null,
   "id": "eb4313ca-5c9a-44f5-8746-031f087940fc",
   "metadata": {},
   "outputs": [],
   "source": [
    "trash"
   ]
  },
  {
   "cell_type": "code",
   "execution_count": null,
   "id": "c7377914-e5f1-431e-87cd-46f5f7e2f8a4",
   "metadata": {},
   "outputs": [],
   "source": [
    "trash['Incident Address']= trash['Incident Address'].str.upper()"
   ]
  },
  {
   "cell_type": "code",
   "execution_count": null,
   "id": "546c64bb-b513-4c2f-b3d0-e09ec2891077",
   "metadata": {},
   "outputs": [],
   "source": [
    "trash"
   ]
  },
  {
   "cell_type": "code",
   "execution_count": null,
   "id": "91f276f2-3b5a-4ee4-83fd-db92a9157a76",
   "metadata": {},
   "outputs": [],
   "source": [
    "address_split=trash['Incident Address'].str.split(',', expand=True)"
   ]
  },
  {
   "cell_type": "code",
   "execution_count": null,
   "id": "1eb7e2f3-e5aa-41d6-8412-c362f52fa68f",
   "metadata": {},
   "outputs": [],
   "source": [
    "address_split"
   ]
  },
  {
   "cell_type": "code",
   "execution_count": null,
   "id": "10b4fdcd-4f90-4ad6-950c-8540c16ad37f",
   "metadata": {},
   "outputs": [],
   "source": [
    "address_split=address_split.drop(columns=[1,3,4])"
   ]
  },
  {
   "cell_type": "code",
   "execution_count": null,
   "id": "8a8d65a4-b47b-4547-ae2c-9360967c7487",
   "metadata": {},
   "outputs": [],
   "source": [
    "address_split"
   ]
  },
  {
   "cell_type": "code",
   "execution_count": null,
   "id": "39869883-6f62-4ce1-9423-d85b3b12a1b9",
   "metadata": {},
   "outputs": [],
   "source": [
    "street_split= address_split[0].str.split(' ', n=1, expand=True)"
   ]
  },
  {
   "cell_type": "code",
   "execution_count": null,
   "id": "73746ed9-b113-4e97-a037-d3aa6974a17f",
   "metadata": {},
   "outputs": [],
   "source": [
    "street_split"
   ]
  },
  {
   "cell_type": "code",
   "execution_count": null,
   "id": "80af35f6-4898-4d5a-bc6f-240d976e71c9",
   "metadata": {},
   "outputs": [],
   "source": [
    "street_split=street_split.rename(columns={0:'Door Number', 1:'Street'})"
   ]
  },
  {
   "cell_type": "code",
   "execution_count": null,
   "id": "9bd08bde-4127-4dca-8eb7-ce69ba205916",
   "metadata": {},
   "outputs": [],
   "source": [
    "street_split"
   ]
  },
  {
   "cell_type": "code",
   "execution_count": null,
   "id": "a9f93df5-a3f3-4236-b025-35956ec7085b",
   "metadata": {},
   "outputs": [],
   "source": [
    "street_split['Code']= address_split[2]"
   ]
  },
  {
   "cell_type": "code",
   "execution_count": null,
   "id": "756b95c4-77a8-46ad-9c1a-66b5b0c338fb",
   "metadata": {},
   "outputs": [],
   "source": [
    "street_split"
   ]
  },
  {
   "cell_type": "code",
   "execution_count": null,
   "id": "2079a5f4-c5cc-40f5-bd97-88645591850a",
   "metadata": {},
   "outputs": [],
   "source": [
    "zip_split=street_split['Code'].str.split(' ', expand=True)"
   ]
  },
  {
   "cell_type": "code",
   "execution_count": null,
   "id": "d4eaabc2-c300-4fbb-8bb8-87aeb7e1b3bf",
   "metadata": {},
   "outputs": [],
   "source": [
    "zip_split=zip_split[[2]]"
   ]
  },
  {
   "cell_type": "code",
   "execution_count": null,
   "id": "1ac4fbe6-f405-4837-804f-9d09edd10acf",
   "metadata": {},
   "outputs": [],
   "source": [
    "street_split['Code']=zip_split[2]"
   ]
  },
  {
   "cell_type": "code",
   "execution_count": null,
   "id": "8f002948-cd81-4036-9d54-28d6887b1f4c",
   "metadata": {},
   "outputs": [],
   "source": [
    "street_split"
   ]
  },
  {
   "cell_type": "code",
   "execution_count": null,
   "id": "0b88a12d-9aae-48da-9e49-3de4c92d4c82",
   "metadata": {},
   "outputs": [],
   "source": [
    "trash['Door Number']=street_split['Door Number']"
   ]
  },
  {
   "cell_type": "code",
   "execution_count": null,
   "id": "ea286963-e6a7-4e13-8a02-c68040e5cfcc",
   "metadata": {},
   "outputs": [],
   "source": [
    "trash['Street']=street_split['Street']"
   ]
  },
  {
   "cell_type": "code",
   "execution_count": null,
   "id": "3c7205fe-8c91-439d-81f0-11ba74f7c3e8",
   "metadata": {},
   "outputs": [],
   "source": [
    "trash['Code']=street_split['Code']"
   ]
  },
  {
   "cell_type": "code",
   "execution_count": null,
   "id": "587cd3be-8054-4974-8ffd-a51ac862797b",
   "metadata": {},
   "outputs": [],
   "source": [
    "trash"
   ]
  },
  {
   "cell_type": "code",
   "execution_count": null,
   "id": "b7cbecd2-d7d4-47de-9597-95c8c4b6c994",
   "metadata": {},
   "outputs": [],
   "source": [
    "trash.loc[trash['Zip Code']==-1]"
   ]
  },
  {
   "cell_type": "code",
   "execution_count": null,
   "id": "c635ffdf-ef7b-4410-8112-343e8608ee9c",
   "metadata": {},
   "outputs": [],
   "source": [
    "for index, row in trash.iterrows():\n",
    "    if row['Zip Code'] == -1:\n",
    "        trash.loc[index, 'Zip Code'] = trash.loc[index, 'Code']\n",
    "    else:\n",
    "       trash.loc[index, 'Zip Code'] = trash.loc[index, 'Zip Code']"
   ]
  },
  {
   "cell_type": "code",
   "execution_count": null,
   "id": "c0afba94-8824-4333-9227-79545e6e4022",
   "metadata": {},
   "outputs": [],
   "source": [
    "trash"
   ]
  },
  {
   "cell_type": "code",
   "execution_count": null,
   "id": "a3c7df53-9d8c-4e09-96f4-ec220db10d44",
   "metadata": {},
   "outputs": [],
   "source": [
    "trash['Zip Code']=trash['Zip Code'].fillna(-1).astype(int)"
   ]
  },
  {
   "cell_type": "code",
   "execution_count": null,
   "id": "e5ee6ff7-e440-47fa-a3fe-d4fb79025c5e",
   "metadata": {},
   "outputs": [],
   "source": [
    "trash"
   ]
  },
  {
   "cell_type": "code",
   "execution_count": null,
   "id": "a4506755-16c8-4493-9df8-04fbf2f7abc6",
   "metadata": {},
   "outputs": [],
   "source": [
    "trash['Request']=trash['Request'].str.upper()"
   ]
  },
  {
   "cell_type": "code",
   "execution_count": null,
   "id": "d24baab9-8399-4a52-933e-b973760ba883",
   "metadata": {},
   "outputs": [],
   "source": [
    "trash['Description']=trash['Description'].str.upper()"
   ]
  },
  {
   "cell_type": "code",
   "execution_count": null,
   "id": "08fe9a57-aac2-42a9-bc26-9c15905c17cf",
   "metadata": {},
   "outputs": [],
   "source": [
    "trash['Request']=trash['Request'].str.contains('MISS').astype(int)"
   ]
  },
  {
   "cell_type": "code",
   "execution_count": null,
   "id": "cf2d07e0-a06f-4dd9-86f1-5d96d983c371",
   "metadata": {},
   "outputs": [],
   "source": [
    "trash['Description_Code']=0\n",
    "for index, row in trash.iterrows():\n",
    "    if pd.isna(row['Description']):\n",
    "        trash.at[index,'Description_Code'] = 0\n",
    "    elif 'MISS' in row['Description']:\n",
    "        trash.at[index,'Description_Code'] = 1\n"
   ]
  },
  {
   "cell_type": "code",
   "execution_count": null,
   "id": "01a3a6fa-bc6e-4bda-934c-cc9b80a2e06c",
   "metadata": {},
   "outputs": [],
   "source": [
    "trash"
   ]
  },
  {
   "cell_type": "code",
   "execution_count": null,
   "id": "5d4b7469-23de-4c50-93ae-ac22e202dede",
   "metadata": {},
   "outputs": [],
   "source": [
    "trash['concat']=trash['Request']+trash['Description_Code']"
   ]
  },
  {
   "cell_type": "code",
   "execution_count": null,
   "id": "834506a7-24e7-44db-a11f-fcaabecbcf98",
   "metadata": {},
   "outputs": [],
   "source": [
    "\n",
    "\n",
    "for index, row in trash.iterrows():\n",
    "    if trash.loc[index, 'concat'] == 0:\n",
    "        trash.loc[index, 'complaint'] =0\n",
    "    else:\n",
    "        trash.loc[index, 'complaint'] = 1"
   ]
  },
  {
   "cell_type": "code",
   "execution_count": null,
   "id": "342f59e3-8925-4262-b0b0-543cc7562aa6",
   "metadata": {},
   "outputs": [],
   "source": [
    "trash['complaint']=trash['complaint'].astype(int)"
   ]
  },
  {
   "cell_type": "code",
   "execution_count": null,
   "id": "dbc51569-4d1e-420a-afa2-eef48abd473f",
   "metadata": {},
   "outputs": [],
   "source": [
    "trash"
   ]
  },
  {
   "cell_type": "code",
   "execution_count": null,
   "id": "1e7df435-4729-49e7-97b0-91d3101d02e6",
   "metadata": {},
   "outputs": [],
   "source": [
    "final_trash=trash.drop(columns = ['Complaint', 'concat', 'Description_Code', 'Request'])"
   ]
  },
  {
   "cell_type": "code",
   "execution_count": null,
   "id": "f71ec127-896e-448b-a4b7-49ba3cd010bc",
   "metadata": {},
   "outputs": [],
   "source": [
    "final_trash"
   ]
  },
  {
   "cell_type": "code",
   "execution_count": null,
   "id": "d03451ee-c622-4c25-a3f0-2d4ab29dccdf",
   "metadata": {},
   "outputs": [],
   "source": [
    "final_trash=final_trash.drop(columns= {'Code'})"
   ]
  },
  {
   "cell_type": "code",
   "execution_count": null,
   "id": "c96558c1-28dc-4e32-bb03-10fb31b568b3",
   "metadata": {},
   "outputs": [],
   "source": [
    "red_river=final_trash.loc[final_trash['Trash Hauler']=='RED RIVER']"
   ]
  },
  {
   "cell_type": "code",
   "execution_count": null,
   "id": "9b0810d9-e99a-4bde-9bbe-85d5300e49e0",
   "metadata": {},
   "outputs": [],
   "source": [
    "red_river"
   ]
  },
  {
   "cell_type": "code",
   "execution_count": null,
   "id": "10d68b9b-15a2-4b13-8158-95155fd16e67",
   "metadata": {},
   "outputs": [],
   "source": [
    "red_river.info()"
   ]
  },
  {
   "cell_type": "code",
   "execution_count": null,
   "id": "0827947a-1ca2-424d-b64f-65590c476c1b",
   "metadata": {},
   "outputs": [],
   "source": []
  },
  {
   "cell_type": "code",
   "execution_count": null,
   "id": "1a2626da-7cc0-4f07-9499-048779952d15",
   "metadata": {},
   "outputs": [],
   "source": []
  }
 ],
 "metadata": {
  "kernelspec": {
   "display_name": "Python 3 (ipykernel)",
   "language": "python",
   "name": "python3"
  },
  "language_info": {
   "codemirror_mode": {
    "name": "ipython",
    "version": 3
   },
   "file_extension": ".py",
   "mimetype": "text/x-python",
   "name": "python",
   "nbconvert_exporter": "python",
   "pygments_lexer": "ipython3",
   "version": "3.12.4"
  }
 },
 "nbformat": 4,
 "nbformat_minor": 5
}
